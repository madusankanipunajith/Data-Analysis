{
 "cells": [
  {
   "cell_type": "code",
   "execution_count": 4,
   "id": "36ff4d2e",
   "metadata": {},
   "outputs": [],
   "source": [
    "import sklearn"
   ]
  },
  {
   "cell_type": "code",
   "execution_count": 5,
   "id": "9c576432",
   "metadata": {},
   "outputs": [],
   "source": [
    "from sklearn.feature_extraction.text import TfidfVectorizer"
   ]
  },
  {
   "cell_type": "code",
   "execution_count": 7,
   "id": "6dafbf43",
   "metadata": {},
   "outputs": [],
   "source": [
    "tfidf = TfidfVectorizer()\n",
    "doc1 = \"Text processing is necessary\"\n",
    "doc2 = \"Text processing is necessary and important\""
   ]
  },
  {
   "cell_type": "code",
   "execution_count": 8,
   "id": "db32d419",
   "metadata": {},
   "outputs": [],
   "source": [
    "response = tfidf.fit_transform([doc1, doc2])"
   ]
  },
  {
   "cell_type": "code",
   "execution_count": 9,
   "id": "c15dc98b",
   "metadata": {},
   "outputs": [
    {
     "data": {
      "text/plain": [
       "{'text': 5, 'processing': 4, 'is': 2, 'necessary': 3, 'and': 0, 'important': 1}"
      ]
     },
     "execution_count": 9,
     "metadata": {},
     "output_type": "execute_result"
    }
   ],
   "source": [
    "tfidf.vocabulary_"
   ]
  },
  {
   "cell_type": "code",
   "execution_count": 13,
   "id": "c8de3168",
   "metadata": {},
   "outputs": [
    {
     "name": "stdout",
     "output_type": "stream",
     "text": [
      "(2, 6)\n"
     ]
    }
   ],
   "source": [
    "print(response.shape)"
   ]
  },
  {
   "cell_type": "code",
   "execution_count": 15,
   "id": "d40c62fa",
   "metadata": {},
   "outputs": [
    {
     "name": "stdout",
     "output_type": "stream",
     "text": [
      "  (0, 3)\t0.5\n",
      "  (0, 2)\t0.5\n",
      "  (0, 4)\t0.5\n",
      "  (0, 5)\t0.5\n",
      "  (1, 1)\t0.49844627974580596\n",
      "  (1, 0)\t0.49844627974580596\n",
      "  (1, 3)\t0.35464863330313684\n",
      "  (1, 2)\t0.35464863330313684\n",
      "  (1, 4)\t0.35464863330313684\n",
      "  (1, 5)\t0.35464863330313684\n"
     ]
    }
   ],
   "source": [
    "print(response)"
   ]
  }
 ],
 "metadata": {
  "kernelspec": {
   "display_name": "Python 3 (ipykernel)",
   "language": "python",
   "name": "python3"
  },
  "language_info": {
   "codemirror_mode": {
    "name": "ipython",
    "version": 3
   },
   "file_extension": ".py",
   "mimetype": "text/x-python",
   "name": "python",
   "nbconvert_exporter": "python",
   "pygments_lexer": "ipython3",
   "version": "3.10.4"
  }
 },
 "nbformat": 4,
 "nbformat_minor": 5
}
