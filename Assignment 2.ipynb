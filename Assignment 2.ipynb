{
 "cells": [
  {
   "cell_type": "code",
   "execution_count": 60,
   "id": "64ffa8b2",
   "metadata": {},
   "outputs": [],
   "source": [
    "import pandas as pd\n",
    "import numpy as np\n",
    "\n",
    "from sklearn.preprocessing import LabelEncoder\n",
    "from sklearn.model_selection import train_test_split\n",
    "from sklearn.tree import DecisionTreeClassifier\n",
    "from sklearn.metrics import confusion_matrix\n",
    "from sklearn.tree import plot_tree\n",
    "from sklearn.metrics import f1_score\n",
    "from sklearn.metrics import accuracy_score\n",
    "import matplotlib.pyplot as plt"
   ]
  },
  {
   "cell_type": "code",
   "execution_count": 7,
   "id": "ef09fd1f",
   "metadata": {},
   "outputs": [
    {
     "name": "stdout",
     "output_type": "stream",
     "text": [
      "   ID  Age  Gender    TB   DB  ALK SGPT SGOT   TP  ALB AG_Ratio Class\n",
      "0   1   65  Female   0.7  0.1  187   16   18  6.8  3.3      0.9   Yes\n",
      "1   2   62    Male  10.9  5.5  699   64  100  7.5  3.2     0.74   Yes\n",
      "2   3   62    Male   7.3  4.1  490   60   68    7  3.3     0.89   Yes\n",
      "3   4   58    Male     1  0.4  182   14   20  6.8  3.4        1   Yes\n",
      "4   5   72    Male   3.9    2  195   27   59  7.3  2.4      0.4   Yes\n"
     ]
    }
   ],
   "source": [
    "train_df = pd.read_excel('Downloads/SCS4204_IS4103_CS4104 _dataset.xlsx', sheet_name='Training Dataset', engine='openpyxl')\n",
    "test_df = pd.read_excel('Downloads/SCS4204_IS4103_CS4104 _dataset.xlsx', sheet_name='Testing Dataset', engine='openpyxl')\n",
    "\n",
    "# print training dataset header \n",
    "print(train_df.head())"
   ]
  },
  {
   "cell_type": "code",
   "execution_count": 8,
   "id": "59b43835",
   "metadata": {},
   "outputs": [
    {
     "name": "stdout",
     "output_type": "stream",
     "text": [
      "   ID  Age  Gender    TB   DB  ALK SGPT SGOT   TP  ALB AG_Ratio Class\n",
      "0   1   65  Female   0.7  0.1  187   16   18  6.8  3.3      0.9   Yes\n",
      "1   2   62    Male  10.9  5.5  699   64  100  7.5  3.2     0.74   Yes\n",
      "2   3   62    Male   7.3  4.1  490   60   68    7  3.3     0.89   Yes\n",
      "3   4   58    Male     1  0.4  182   14   20  6.8  3.4        1   Yes\n",
      "4   5   72    Male   3.9    2  195   27   59  7.3  2.4      0.4   Yes\n"
     ]
    }
   ],
   "source": [
    "# print testing dataset header\n",
    "print(test_df.head())"
   ]
  },
  {
   "cell_type": "code",
   "execution_count": 9,
   "id": "d92e8dbb",
   "metadata": {},
   "outputs": [
    {
     "name": "stdout",
     "output_type": "stream",
     "text": [
      "0      65\n",
      "1      62\n",
      "2      62\n",
      "3      58\n",
      "4      72\n",
      "       ..\n",
      "578    60\n",
      "579    40\n",
      "580    52\n",
      "581    31\n",
      "582    38\n",
      "Name: Age, Length: 583, dtype: int64\n"
     ]
    }
   ],
   "source": [
    "# check whether we can access our dataframe using attribute name\n",
    "print(train_df['Age'])"
   ]
  },
  {
   "cell_type": "code",
   "execution_count": 37,
   "id": "6d857080",
   "metadata": {},
   "outputs": [],
   "source": [
    "# replacing missing values with mean values\n",
    "zero_not_accepted = ['TB', 'DB', 'ALK', 'SGPT', 'SGOT', 'TP', 'ALB', 'AG_Ratio']\n",
    "for column in zero_not_accepted:\n",
    "    train_df[column] = train_df[column].replace('?', np.NAN) # replacing 0 into NA\n",
    "    mean = int(train_df[column].mean(skipna= True))\n",
    "    train_df[column] = train_df[column].replace(np.NAN, mean)\n",
    "\n",
    "for column in zero_not_accepted:\n",
    "    test_df[column] = test_df[column].replace('?', np.NAN) # replacing 0 into NA\n",
    "    mean = int(test_df[column].mean(skipna= True))\n",
    "    test_df[column] = test_df[column].replace(np.NAN, mean)\n",
    "    \n",
    "# Lavel Encoding -> Male vs Female\n",
    "train_df['Gender'] = train_df['Gender'].replace('Male', 1)\n",
    "train_df['Gender'] = train_df['Gender'].replace('Female', 0)\n",
    "test_df['Gender'] = test_df['Gender'].replace('Male', 1)\n",
    "test_df['Gender'] = test_df['Gender'].replace('Female', 0)"
   ]
  },
  {
   "cell_type": "code",
   "execution_count": 30,
   "id": "0b63b082",
   "metadata": {},
   "outputs": [
    {
     "name": "stdout",
     "output_type": "stream",
     "text": [
      "220    0.8\n",
      "221    0.9\n",
      "222    0.9\n",
      "223    1.1\n",
      "224    1.7\n",
      "225    0.6\n",
      "226    1.3\n",
      "227    3.0\n",
      "228    1.0\n",
      "229    0.6\n",
      "Name: TB, dtype: float64\n"
     ]
    }
   ],
   "source": [
    "# check whether missing values have been replaced with the mean value\n",
    "print(train_df.iloc[220:230,3])"
   ]
  },
  {
   "cell_type": "code",
   "execution_count": 38,
   "id": "c99c32c2",
   "metadata": {},
   "outputs": [],
   "source": [
    "# split dataset for testing and training\n",
    "train_x = train_df.iloc[:,1:11]\n",
    "train_y = train_df.iloc[:, 11]\n",
    "test_x = test_df.iloc[:,1:11]\n",
    "test_y = test_df.iloc[:, 11]"
   ]
  },
  {
   "cell_type": "code",
   "execution_count": 39,
   "id": "9ea8a66b",
   "metadata": {},
   "outputs": [
    {
     "name": "stdout",
     "output_type": "stream",
     "text": [
      "     Age  Gender    TB   DB    ALK  SGPT   SGOT   TP  ALB  AG_Ratio\n",
      "0     65       0   0.7  0.1  187.0  16.0   18.0  6.8  3.3      0.90\n",
      "1     62       1  10.9  5.5  699.0  64.0  100.0  7.5  3.2      0.74\n",
      "2     62       1   7.3  4.1  490.0  60.0   68.0  7.0  3.3      0.89\n",
      "3     58       1   1.0  0.4  182.0  14.0   20.0  6.8  3.4      1.00\n",
      "4     72       1   3.9  2.0  195.0  27.0   59.0  7.3  2.4      0.40\n",
      "..   ...     ...   ...  ...    ...   ...    ...  ...  ...       ...\n",
      "578   60       1   0.5  0.1  500.0  20.0   34.0  5.9  1.6      0.37\n",
      "579   40       1   0.6  0.1   98.0  35.0   31.0  6.0  3.2      1.10\n",
      "580   52       1   0.8  0.2  245.0  48.0   49.0  6.4  3.2      1.00\n",
      "581   31       1   1.3  0.5  184.0  29.0   32.0  6.8  3.4      1.00\n",
      "582   38       1   1.0  0.3  216.0  21.0   24.0  7.3  4.4      1.50\n",
      "\n",
      "[583 rows x 10 columns]      Age  Gender    TB   DB    ALK  SGPT   SGOT   TP  ALB  AG_Ratio\n",
      "0     65       0   0.7  0.1  187.0  16.0   18.0  6.8  3.3      0.90\n",
      "1     62       1  10.9  5.5  699.0  64.0  100.0  7.5  3.2      0.74\n",
      "2     62       1   7.3  4.1  490.0  60.0   68.0  7.0  3.3      0.89\n",
      "3     58       1   1.0  0.4  182.0  14.0   20.0  6.8  3.4      1.00\n",
      "4     72       1   3.9  2.0  195.0  27.0   59.0  7.3  2.4      0.40\n",
      "..   ...     ...   ...  ...    ...   ...    ...  ...  ...       ...\n",
      "306   52       1   2.7  1.0  251.0  20.0   40.0  6.0  1.7      0.39\n",
      "307   90       1   1.1  0.3  215.0  46.0  134.0  6.9  3.0      0.70\n",
      "308   45       0  15.6  9.5  134.0  54.0  125.0  5.6  4.0      2.50\n",
      "309   52       1   0.8  0.2  245.0  48.0   49.0  6.4  3.2      1.00\n",
      "310   45       1   1.3  0.5  184.0  29.0   32.0  6.8  3.4      1.00\n",
      "\n",
      "[311 rows x 10 columns]\n"
     ]
    }
   ],
   "source": [
    "print(train_x, test_x)"
   ]
  },
  {
   "cell_type": "code",
   "execution_count": 40,
   "id": "e7eb4695",
   "metadata": {},
   "outputs": [
    {
     "name": "stdout",
     "output_type": "stream",
     "text": [
      "0      Yes\n",
      "1      Yes\n",
      "2      Yes\n",
      "3      Yes\n",
      "4      Yes\n",
      "      ... \n",
      "578     No\n",
      "579    Yes\n",
      "580    Yes\n",
      "581    Yes\n",
      "582     No\n",
      "Name: Class, Length: 583, dtype: object 0      Yes\n",
      "1      Yes\n",
      "2      Yes\n",
      "3      Yes\n",
      "4      Yes\n",
      "      ... \n",
      "306    Yes\n",
      "307    Yes\n",
      "308    Yes\n",
      "309    Yes\n",
      "310    Yes\n",
      "Name: Class, Length: 311, dtype: object\n"
     ]
    }
   ],
   "source": [
    "print(train_y, test_y)"
   ]
  },
  {
   "cell_type": "code",
   "execution_count": 41,
   "id": "7a721fee",
   "metadata": {},
   "outputs": [
    {
     "name": "stdout",
     "output_type": "stream",
     "text": [
      "[1 1 1 1 1 1 1 1 0 1 1 1 0 1 1 0 1 0 1 1 1 1 1 1 0 1 1 1 0 0 1 1 0 0 0 1 0\n",
      " 1 1 1 1 0 0 1 0 0 1 1 1 1 1 1 1 1 1 1 0 0 1 0 1 1 1 1 1 1 1 1 1 0 1 1 1 1\n",
      " 1 0 1 1 0 1 1 1 0 1 1 1 0 1 1 1 1 1 1 1 1 1 1 1 1 1 0 0 1 0 1 0 0 0 0 0 0\n",
      " 1 0 1 0 0 1 1 1 1 1 1 0 1 0 0 1 1 1 1 1 0 0 1 1 1 1 1 1 1 0 1 1 1 1 0 1 1\n",
      " 1 1 0 1 1 0 1 1 1 1 1 1 1 1 1 1 1 1 1 1 1 1 1 1 1 1 1 1 1 1 1 1 1 1 0 1 1\n",
      " 0 1 1 1 0 1 1 1 0 0 1 1 1 0 1 1 1 0 0 0 1 1 1 1 1 1 1 0 1 1 0 0 1 0 1 1 1\n",
      " 1 0 1 1 1 1 0 1 0 1 1 1 1 1 0 1 0 1 0 1 1 1 1 1 1 1 1 1 1 1 0 0 0 1 1 1 0\n",
      " 1 1 1 1 1 0 0 1 1 1 1 1 0 1 1 1 0 0 1 1 1 1 0 1 0 1 1 1 0 1 1 1 0 1 0 1 1\n",
      " 1 0 1 0 0 1 1 0 1 0 1 1 1 1 1 1 0 0 1 0 0 1 1 0 1 1 1 0 1 0 0 0 0 0 1 1 1\n",
      " 0 1 1 1 1 1 1 1 1 0 1 0 1 1 1 1 0 1 1 1 1 1 0 1 1 1 0 1 0 0 0 0 0 0 0 1 1\n",
      " 1 0 1 0 0 1 1 0 1 0 1 1 1 0 1 1 0 1 1 1 1 1 1 1 1 0 1 1 1 1 0 1 1 0 1 1 0\n",
      " 1 1 1 1 0 1 0 0 1 1 0 1 1 1 0 1 0 1 1 0 1 0 1 1 0 1 0 0 0 1 1 1 1 1 1 1 1\n",
      " 0 0 1 1 1 1 1 1 1 1 0 1 0 0 1 1 1 1 1 1 0 0 0 0 1 1 1 0 0 0 0 0 1 1 1 1 0\n",
      " 1 1 0 1 1 1 1 0 0 1 0 1 0 1 0 1 1 1 1 1 1 1 1 1 1 1 1 1 1 0 1 0 1 1 1 1 1\n",
      " 1 1 1 1 1 1 0 0 1 1 1 1 0 1 0 1 0 1 1 1 1 0 0 0 0 1 1 0 1 1 1 1 1 0 1 1 1\n",
      " 1 1 1 1 1 1 1 1 1 0 1 0 1 1 1 1 1 1 1 1 1 1 1 0 1 1 1 0] [1 1 1 1 1 1 0 1 0 0 0 1 1 1 0 1 1 1 1 1 1 0 0 0 1 1 1 1 1 1 1 1 1 1 1 1 1\n",
      " 1 1 1 1 1 1 0 1 1 1 1 1 1 1 1 1 1 1 1 1 1 1 1 1 1 1 1 1 1 1 1 1 0 1 1 1 0\n",
      " 0 0 0 0 0 0 1 1 1 1 1 1 1 1 1 1 1 1 1 1 1 1 1 1 1 1 1 1 1 1 0 0 1 1 1 1 1\n",
      " 0 1 1 1 0 1 1 1 1 1 1 0 1 0 1 1 1 0 0 0 1 1 1 1 1 1 1 1 0 0 0 0 0 1 1 1 1\n",
      " 1 1 1 1 0 1 0 1 1 1 1 0 1 1 1 1 1 0 0 0 0 0 0 0 0 0 1 1 0 1 1 0 1 1 1 1 0\n",
      " 0 0 1 0 1 1 1 1 0 1 0 0 1 1 0 0 0 0 0 0 0 0 0 1 1 0 0 1 1 1 1 1 1 1 1 0 1\n",
      " 0 0 1 1 1 1 1 1 0 0 0 0 1 1 1 0 0 0 1 1 1 0 0 0 0 1 0 1 0 1 0 1 1 1 1 1 1\n",
      " 1 1 1 1 1 1 1 1 0 0 1 1 1 1 1 1 1 0 0 1 1 1 1 0 1 0 1 0 1 1 1 1 0 0 0 1 1\n",
      " 1 1 1 1 1 1 1 1 1 1 1 1 1 1 1]\n"
     ]
    }
   ],
   "source": [
    "# label encoding\n",
    "le = LabelEncoder()\n",
    "train_y = le.fit_transform(train_y)\n",
    "test_y = le.fit_transform(test_y)\n",
    "\n",
    "print(train_y, test_y)"
   ]
  },
  {
   "cell_type": "code",
   "execution_count": 42,
   "id": "03a21ab4",
   "metadata": {},
   "outputs": [
    {
     "name": "stdout",
     "output_type": "stream",
     "text": [
      "decision tree classifier created\n"
     ]
    }
   ],
   "source": [
    "# defining the decision tree\n",
    "dtree = DecisionTreeClassifier()\n",
    "dtree.fit(train_x, train_y)\n",
    "print('decision tree classifier created')"
   ]
  },
  {
   "cell_type": "code",
   "execution_count": 43,
   "id": "d9a4ae91",
   "metadata": {},
   "outputs": [
    {
     "name": "stdout",
     "output_type": "stream",
     "text": [
      "[1 1 1 1 1 1 0 1 0 0 0 1 1 1 0 1 1 1 1 1 1 0 0 0 1 1 1 1 1 1 1 1 1 1 1 1 1\n",
      " 1 1 1 1 1 1 0 1 1 1 1 1 1 1 1 1 1 1 1 1 1 1 1 1 1 1 1 1 1 1 1 1 0 1 1 1 0\n",
      " 0 0 0 0 0 0 1 1 1 1 1 1 1 1 1 1 1 1 1 1 1 1 1 1 1 1 1 1 1 1 0 0 1 1 1 1 1\n",
      " 0 1 1 1 0 0 1 1 1 1 1 0 1 0 1 1 1 0 0 0 1 1 1 1 1 0 1 1 0 0 0 0 0 1 1 1 1\n",
      " 1 1 1 1 0 1 0 1 1 1 1 0 1 0 1 1 1 0 0 0 1 0 0 0 0 0 1 1 0 1 1 0 1 1 1 1 0\n",
      " 0 0 1 0 1 1 1 1 0 1 0 0 1 1 0 0 0 0 0 0 0 0 0 1 1 0 0 1 1 1 1 1 1 0 1 0 1\n",
      " 0 0 1 1 1 1 1 1 0 0 0 0 1 1 1 0 0 0 1 1 1 0 0 0 0 1 0 1 0 1 0 1 1 1 1 1 1\n",
      " 1 1 1 1 1 1 1 1 0 0 1 1 1 1 1 1 1 0 0 1 1 1 1 0 1 0 1 0 1 1 1 1 0 0 0 1 1\n",
      " 1 1 1 1 1 1 1 1 1 1 1 1 1 1 0]\n"
     ]
    }
   ],
   "source": [
    "# predicting the values of the test data\n",
    "pred_y = dtree.predict(test_x)\n",
    "print(pred_y)"
   ]
  },
  {
   "cell_type": "code",
   "execution_count": 44,
   "id": "3dae8940",
   "metadata": {},
   "outputs": [
    {
     "data": {
      "text/plain": [
       "311"
      ]
     },
     "execution_count": 44,
     "metadata": {},
     "output_type": "execute_result"
    }
   ],
   "source": [
    "len(pred_y)"
   ]
  },
  {
   "cell_type": "code",
   "execution_count": 58,
   "id": "016f8b3a",
   "metadata": {},
   "outputs": [
    {
     "data": {
      "image/png": "[encoded data removed]",
      "text/plain": [
       "<Figure size 432x288 with 1 Axes>"
      ]
     },
     "metadata": {
      "needs_background": "light"
     },
     "output_type": "display_data"
    }
   ],
   "source": [
    "# visualising the decision tree\n",
    "df_columns = train_df.columns\n",
    "df_columns = train_df.columns[1:11]\n",
    "\n",
    "dec_tree = plot_tree(decision_tree=dtree, feature_names=df_columns, class_names=['Yes', 'No'], filled=True, precision=4, rounded=\n",
    "                    True)\n",
    "plt.savefig('dt.png')"
   ]
  },
  {
   "cell_type": "code",
   "execution_count": 45,
   "id": "73a00b02",
   "metadata": {},
   "outputs": [
    {
     "name": "stdout",
     "output_type": "stream",
     "text": [
      "[[ 89   1]\n",
      " [  5 216]]\n"
     ]
    }
   ],
   "source": [
    "# confusion matrix\n",
    "confusion_matrix = confusion_matrix(test_y, pred_y)\n",
    "print(confusion_matrix)"
   ]
  },
  {
   "cell_type": "code",
   "execution_count": 61,
   "id": "8d0d2652",
   "metadata": {},
   "outputs": [
    {
     "name": "stdout",
     "output_type": "stream",
     "text": [
      "f1_score :  0.9863013698630136\n",
      "accuracy score :  0.9807073954983923\n"
     ]
    }
   ],
   "source": [
    "# f1_score and accuracy score\n",
    "print('f1_score : ', f1_score(test_y, pred_y))\n",
    "print('accuracy score : ', accuracy_score(test_y, pred_y))"
   ]
  },
  {
   "cell_type": "markdown",
   "id": "4e5b3aa6",
   "metadata": {},
   "source": [
    "                                        **Outputs of the confusion matrix**"
   ]
  },
  {
   "cell_type": "code",
   "execution_count": 46,
   "id": "3bad27a0",
   "metadata": {},
   "outputs": [],
   "source": [
    "TN = 89\n",
    "TP = 216\n",
    "FN = 5\n",
    "FP = 1"
   ]
  },
  {
   "cell_type": "code",
   "execution_count": null,
   "id": "b350f371",
   "metadata": {},
   "outputs": [],
   "source": [
    "# Calculations have been done in the PDF file\n",
    "Accuracy = 98.07 %\n",
    "Precision = 99.54 %\n",
    "Sensitivity = 97.74 %\n",
    "Specificity = 98.89 %\n",
    "Error Rate = 1.93 % "
   ]
  }
 ],
 "metadata": {
  "kernelspec": {
   "display_name": "Python 3 (ipykernel)",
   "language": "python",
   "name": "python3"
  },
  "language_info": {
   "codemirror_mode": {
    "name": "ipython",
    "version": 3
   },
   "file_extension": ".py",
   "mimetype": "text/x-python",
   "name": "python",
   "nbconvert_exporter": "python",
   "pygments_lexer": "ipython3",
   "version": "3.10.4"
  }
 },
 "nbformat": 4,
 "nbformat_minor": 5
}
